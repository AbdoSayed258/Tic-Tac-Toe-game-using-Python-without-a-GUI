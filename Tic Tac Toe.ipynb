{
 "cells": [
  {
   "cell_type": "code",
   "execution_count": 1,
   "id": "521edc32",
   "metadata": {},
   "outputs": [],
   "source": [
    "# Step 1: Design the game board as a 3x3 list of lists\n",
    "board = [['', '', ''],\n",
    "         ['', '', ''],\n",
    "         ['', '', '']]\n"
   ]
  },
  {
   "cell_type": "code",
   "execution_count": 2,
   "id": "c9c81b33",
   "metadata": {},
   "outputs": [
    {
     "name": "stdout",
     "output_type": "stream",
     "text": [
      " |  | \n",
      "---------\n",
      " |  | \n",
      "---------\n",
      " |  | \n",
      "---------\n"
     ]
    }
   ],
   "source": [
    "# Step 2: Create a function to print the game board to the console\n",
    "def print_board(board):\n",
    "    for row in board:\n",
    "        print(\" | \".join(row))\n",
    "        print(\"-\" * 9)\n",
    "\n",
    "# Test the print_board function\n",
    "print_board(board)\n"
   ]
  },
  {
   "cell_type": "code",
   "execution_count": 3,
   "id": "daea3b9f",
   "metadata": {},
   "outputs": [],
   "source": [
    "# Step 3: Create a function to handle player moves\n",
    "def get_player_move(board, player_symbol):\n",
    "    while True:\n",
    "        try:\n",
    "            row = int(input(f\"Player '{player_symbol}', enter row (0, 1, or 2): \"))\n",
    "            col = int(input(f\"Player '{player_symbol}', enter column (0, 1, or 2): \"))\n",
    "            if board[row][col] == '':\n",
    "                return row, col\n",
    "            else:\n",
    "                print(\"That position is already taken. Try again.\")\n",
    "        except (ValueError, IndexError):\n",
    "            print(\"Invalid input. Please enter a valid row and column (0, 1, or 2).\")\n",
    "\n",
    "# Test the get_player_move function\n",
    "# row, col = get_player_move(board, 'X')\n",
    "# print(f\"Player 'X' placed symbol at ({row}, {col})\")\n"
   ]
  },
  {
   "cell_type": "code",
   "execution_count": 4,
   "id": "b5fc4dd0",
   "metadata": {},
   "outputs": [],
   "source": [
    "# Step 4: Create a function to check for a win\n",
    "def check_win(board, player_symbol):\n",
    "    # Check rows\n",
    "    for row in board:\n",
    "        if all(square == player_symbol for square in row):\n",
    "            return True\n",
    "\n",
    "    # Check columns\n",
    "    for col in range(3):\n",
    "        if all(board[row][col] == player_symbol for row in range(3)):\n",
    "            return True\n",
    "\n",
    "    # Check diagonals\n",
    "    if all(board[i][i] == player_symbol for i in range(3)) or all(board[i][2-i] == player_symbol for i in range(3)):\n",
    "        return True\n",
    "\n",
    "    return False\n",
    "\n",
    "# Test the check_win function\n",
    "# print(check_win(board, 'X'))\n"
   ]
  },
  {
   "cell_type": "code",
   "execution_count": 5,
   "id": "e29f35e8",
   "metadata": {},
   "outputs": [],
   "source": [
    "# Step 5: Create a function to check for a tie\n",
    "def check_tie(board):\n",
    "    return all(all(square != '' for square in row) for row in board)\n",
    "\n",
    "# Test the check_tie function\n",
    "# print(check_tie(board))\n"
   ]
  },
  {
   "cell_type": "code",
   "execution_count": 6,
   "id": "43a52620",
   "metadata": {
    "collapsed": true
   },
   "outputs": [
    {
     "name": "stdout",
     "output_type": "stream",
     "text": [
      " |  | \n",
      "---------\n",
      " |  | \n",
      "---------\n",
      " |  | \n",
      "---------\n",
      "Player 'X', enter row (0, 1, or 2): 1\n",
      "Player 'X', enter column (0, 1, or 2): 1\n",
      " |  | \n",
      "---------\n",
      " | X | \n",
      "---------\n",
      " |  | \n",
      "---------\n",
      "Player 'O', enter row (0, 1, or 2): 2\n",
      "Player 'O', enter column (0, 1, or 2): 1\n",
      " |  | \n",
      "---------\n",
      " | X | \n",
      "---------\n",
      " | O | \n",
      "---------\n",
      "Player 'X', enter row (0, 1, or 2): 2\n",
      "Player 'X', enter column (0, 1, or 2): 2\n",
      " |  | \n",
      "---------\n",
      " | X | \n",
      "---------\n",
      " | O | X\n",
      "---------\n",
      "Player 'O', enter row (0, 1, or 2): 1\n",
      "Player 'O', enter column (0, 1, or 2): 0\n",
      " |  | \n",
      "---------\n",
      "O | X | \n",
      "---------\n",
      " | O | X\n",
      "---------\n",
      "Player 'X', enter row (0, 1, or 2): 0\n",
      "Player 'X', enter column (0, 1, or 2): 0\n",
      "X |  | \n",
      "---------\n",
      "O | X | \n",
      "---------\n",
      " | O | X\n",
      "---------\n",
      "Player 'X' wins!\n"
     ]
    }
   ],
   "source": [
    "# Step 6: Create a main game loop\n",
    "def tic_tac_toe_game():\n",
    "    players = ['X', 'O']\n",
    "    current_player = 0\n",
    "    game_over = False\n",
    "\n",
    "    while not game_over:\n",
    "        print_board(board)\n",
    "        player_symbol = players[current_player]\n",
    "        row, col = get_player_move(board, player_symbol)\n",
    "        board[row][col] = player_symbol\n",
    "\n",
    "        if check_win(board, player_symbol):\n",
    "            print_board(board)\n",
    "            print(f\"Player '{player_symbol}' wins!\")\n",
    "            game_over = True\n",
    "        elif check_tie(board):\n",
    "            print_board(board)\n",
    "            print(\"It's a tie!\")\n",
    "            game_over = True\n",
    "\n",
    "        current_player = (current_player + 1) % 2\n",
    "\n",
    "# Start the game\n",
    "tic_tac_toe_game()\n"
   ]
  },
  {
   "cell_type": "code",
   "execution_count": null,
   "id": "c3e6f655",
   "metadata": {},
   "outputs": [],
   "source": []
  }
 ],
 "metadata": {
  "kernelspec": {
   "display_name": "Python 3 (ipykernel)",
   "language": "python",
   "name": "python3"
  },
  "language_info": {
   "codemirror_mode": {
    "name": "ipython",
    "version": 3
   },
   "file_extension": ".py",
   "mimetype": "text/x-python",
   "name": "python",
   "nbconvert_exporter": "python",
   "pygments_lexer": "ipython3",
   "version": "3.9.7"
  }
 },
 "nbformat": 4,
 "nbformat_minor": 5
}
